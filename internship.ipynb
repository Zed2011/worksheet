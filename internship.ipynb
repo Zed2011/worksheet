{
 "cells": [
  {
   "cell_type": "code",
   "execution_count": 12,
   "id": "b0bde930",
   "metadata": {},
   "outputs": [
    {
     "name": "stdout",
     "output_type": "stream",
     "text": [
      "number:10\n",
      "3628800\n"
     ]
    }
   ],
   "source": [
    "num = int(input(\"number:\"))\n",
    "\n",
    "if num < 0:\n",
    "    print(\"Enter a positive number\")\n",
    "elif num == 0 or num == 1:\n",
    "    print(\"1\")\n",
    "else:\n",
    "    sub = 1  \n",
    "    while num > 1:\n",
    "        sub *= num\n",
    "        num -= 1\n",
    "    print(sub)  \n"
   ]
  },
  {
   "cell_type": "code",
   "execution_count": 14,
   "id": "a5cd8e01",
   "metadata": {},
   "outputs": [
    {
     "name": "stdout",
     "output_type": "stream",
     "text": [
      "Enter a number: 2\n",
      "2 is a prime number.\n"
     ]
    }
   ],
   "source": [
    "def is_prime(num):\n",
    "    if num <= 1:\n",
    "        return False\n",
    "    elif num <= 3:\n",
    "        return True\n",
    "\n",
    "    if num % 2 == 0 or num % 3 == 0:\n",
    "        return False\n",
    "\n",
    "    i = 5\n",
    "    while i * i <= num:\n",
    "        if num % i == 0 or num % (i + 2) == 0:\n",
    "            return False\n",
    "        i += 6\n",
    "\n",
    "    return True\n",
    "\n",
    "number = int(input(\"Enter a number: \"))\n",
    "if is_prime(number):\n",
    "    print(number, \"is a prime number.\")\n",
    "else:\n",
    "    print(number, \"is a composite number.\")\n"
   ]
  },
  {
   "cell_type": "code",
   "execution_count": 31,
   "id": "bcedcd54",
   "metadata": {},
   "outputs": [
    {
     "name": "stdout",
     "output_type": "stream",
     "text": [
      "Enter a string: level\n",
      "Yes, the string is a palindrome.\n"
     ]
    }
   ],
   "source": [
    "s = input(\"Enter a string: \")\n",
    "s = s.lower()\n",
    "s = ''.join(filter(str.isalnum, s))\n",
    "if s == s[::-1]:\n",
    "    print(\"Yes, the string is a palindrome.\")\n",
    "else:\n",
    "    print(\"No, the string is not a palindrome.\")\n"
   ]
  },
  {
   "cell_type": "code",
   "execution_count": 29,
   "id": "3beb8394",
   "metadata": {},
   "outputs": [],
   "source": [
    "def tri():\n",
    "    a = int(input(\"Enter the length of one side: \"))\n",
    "    b = int(input(\"Enter the length of the other side: \"))\n",
    "    c = a**2 + b**2\n",
    "    print(\"The sum of the squares of the two sides is:\", c)\n"
   ]
  },
  {
   "cell_type": "code",
   "execution_count": null,
   "id": "bbd351bc",
   "metadata": {},
   "outputs": [],
   "source": []
  },
  {
   "cell_type": "code",
   "execution_count": null,
   "id": "fd25411e",
   "metadata": {},
   "outputs": [],
   "source": []
  }
 ],
 "metadata": {
  "kernelspec": {
   "display_name": "Python 3 (ipykernel)",
   "language": "python",
   "name": "python3"
  },
  "language_info": {
   "codemirror_mode": {
    "name": "ipython",
    "version": 3
   },
   "file_extension": ".py",
   "mimetype": "text/x-python",
   "name": "python",
   "nbconvert_exporter": "python",
   "pygments_lexer": "ipython3",
   "version": "3.9.13"
  }
 },
 "nbformat": 4,
 "nbformat_minor": 5
}
